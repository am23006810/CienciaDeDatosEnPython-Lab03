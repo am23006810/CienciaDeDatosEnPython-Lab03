{
 "cells": [
  {
   "cell_type": "markdown",
   "id": "bdebc643-c6f0-41de-91d7-339fbceac7cc",
   "metadata": {},
   "source": [
    "# Laboratorio #3"
   ]
  },
  {
   "cell_type": "code",
   "execution_count": 249,
   "id": "987db6b2-949f-4b4d-97e2-6d20791e8216",
   "metadata": {},
   "outputs": [],
   "source": [
    "import numpy as np\n",
    "import pandas as pd\n",
    "from matplotlib import pyplot as plt\n",
    "import seaborn as sns\n",
    "import random"
   ]
  },
  {
   "cell_type": "markdown",
   "id": "780ce05e-415d-4301-a380-3e76dc264fe6",
   "metadata": {},
   "source": [
    "## Parte 1: Numpy"
   ]
  },
  {
   "cell_type": "markdown",
   "id": "dd5c0cec-2554-435f-acc3-482e521d1688",
   "metadata": {},
   "source": [
    "### 1. ¿Cuál es el tamaño en bytes de un array de 1000 elementos de tipo booleano?"
   ]
  },
  {
   "cell_type": "code",
   "execution_count": 7,
   "id": "3a798c5e-b81b-458f-b2e5-af2caa1af534",
   "metadata": {},
   "outputs": [],
   "source": [
    "array_1 = np.full((1000, 1), True)"
   ]
  },
  {
   "cell_type": "code",
   "execution_count": 8,
   "id": "5b8e0182-a91e-4416-a632-7f60f7964855",
   "metadata": {},
   "outputs": [
    {
     "name": "stdout",
     "output_type": "stream",
     "text": [
      "bool\n"
     ]
    }
   ],
   "source": [
    "print(array_1.dtype)"
   ]
  },
  {
   "cell_type": "code",
   "execution_count": 10,
   "id": "cb90af56-19c3-490b-91f3-2771e7cf90ce",
   "metadata": {},
   "outputs": [
    {
     "name": "stdout",
     "output_type": "stream",
     "text": [
      "Array bytes:  1000\n"
     ]
    }
   ],
   "source": [
    "print(\"Array bytes: \", array_1.size*array_1.itemsize)"
   ]
  },
  {
   "cell_type": "markdown",
   "id": "a2ea2c56-c30c-41af-85dc-cae7375a182f",
   "metadata": {},
   "source": [
    "### 2. Cree un array cuyos elementos sean los enteros pares en [1,100] y en orden decreciente. Muestre los 10 últimos por pantalla.\n"
   ]
  },
  {
   "cell_type": "code",
   "execution_count": 17,
   "id": "f64987e9-1532-46a6-baf6-face84241074",
   "metadata": {},
   "outputs": [
    {
     "name": "stdout",
     "output_type": "stream",
     "text": [
      "[20 18 16 14 12 10  8  6  4  2]\n"
     ]
    }
   ],
   "source": [
    "array_2 = np.arange(100,1,-1)\n",
    "array_2 = array_2[array_2%2==0]\n",
    "print(array_2[-10:])"
   ]
  },
  {
   "cell_type": "markdown",
   "id": "804021cc-470f-4cc9-abae-c3f3ec53d95b",
   "metadata": {},
   "source": [
    "### 3. Dado el array<br>\n",
    "[2 4 5 6<br>\n",
    "0 3 7 4<br>\n",
    "8 8 5 2<br>\n",
    "1 5 6 1]<br>\n",
    "\n",
    "<br>\n",
    "Seleccione con una instrucción el subarray de elementos [0 3 7 4]\n",
    "<br>\n",
    "Después, seleccione el subarray de elementos<br>\n",
    "[\n",
    "2 5<br>\n",
    "8 5]"
   ]
  },
  {
   "cell_type": "code",
   "execution_count": 34,
   "id": "144555f6-fe71-432c-93a8-f6652c46be46",
   "metadata": {},
   "outputs": [],
   "source": [
    "array_3 = np.array([[2,4,5,6],[0,3,7,4],[8,8,5,2],[1,5,6,1]])\n",
    "array_3_1 = np.array([0,3,7,4])\n",
    "array_3_2 = np.array([[2,5],[8,5]])"
   ]
  },
  {
   "cell_type": "code",
   "execution_count": 35,
   "id": "d7c07746-f11b-4b2a-bde7-06338fee8d27",
   "metadata": {},
   "outputs": [
    {
     "data": {
      "text/plain": [
       "array([0, 3, 7, 4])"
      ]
     },
     "execution_count": 35,
     "metadata": {},
     "output_type": "execute_result"
    }
   ],
   "source": [
    "array_3[1]"
   ]
  },
  {
   "cell_type": "code",
   "execution_count": 69,
   "id": "35274d93-dbe9-4e50-b74c-4c3965cabc62",
   "metadata": {},
   "outputs": [
    {
     "data": {
      "text/plain": [
       "array([[2, 5],\n",
       "       [8, 5]])"
      ]
     },
     "execution_count": 69,
     "metadata": {},
     "output_type": "execute_result"
    }
   ],
   "source": [
    "array_3[[0,2], :][:, [0,2]] "
   ]
  },
  {
   "cell_type": "markdown",
   "id": "cd4e0b3a-7272-40e9-a912-7bb2d7937947",
   "metadata": {},
   "source": [
    "### 4. Dados los arrays a = [1, 4, 2, 7] y b = [1, 3, 2, 9], obtenga la media aritmética de la diferencia (a-b)."
   ]
  },
  {
   "cell_type": "code",
   "execution_count": 72,
   "id": "274e956c-e3ee-424b-8c72-25b97fae64b5",
   "metadata": {},
   "outputs": [],
   "source": [
    "a = np.array([1,4,2,7])\n",
    "b = np.array([1,3,2,9])"
   ]
  },
  {
   "cell_type": "markdown",
   "id": "735a011d-8856-47cb-b6f0-07c9c6617e29",
   "metadata": {},
   "source": [
    "np.mean(a-b)"
   ]
  },
  {
   "cell_type": "markdown",
   "id": "de6594ba-325e-4142-b0dd-a7588c47c96e",
   "metadata": {},
   "source": [
    "### 5. Tengo valores de cordenadas (x, y) en las columnas del array\n",
    "1.33 4.5 <br>\n",
    "30.0 10.7 <br>\n",
    "70.2 0.5 <br>\n",
    "\n",
    "Agregue a este array las coordenadas (37.1, -3.6).\n",
    "Muestre en pantalla las dimensiones del nuevo\n",
    "array."
   ]
  },
  {
   "cell_type": "code",
   "execution_count": 102,
   "id": "8fc64aa6-0a9b-4b5d-9e2b-c38e694a0494",
   "metadata": {},
   "outputs": [],
   "source": [
    "array_5 = np.array([[1.33,4.5], [30.0, 10.7],[70.2,0.5]])"
   ]
  },
  {
   "cell_type": "code",
   "execution_count": 103,
   "id": "a0f1fef0-0ec1-4f6b-a41f-d36be9c0826d",
   "metadata": {},
   "outputs": [
    {
     "data": {
      "text/plain": [
       "(3, 2)"
      ]
     },
     "execution_count": 103,
     "metadata": {},
     "output_type": "execute_result"
    }
   ],
   "source": [
    "array_5.shape"
   ]
  },
  {
   "cell_type": "code",
   "execution_count": 104,
   "id": "40a53bf1-c490-42a1-9844-b081b4f676cf",
   "metadata": {},
   "outputs": [],
   "source": [
    "new_row_5 = [[37.1,-3.6]]"
   ]
  },
  {
   "cell_type": "code",
   "execution_count": 105,
   "id": "b8621851-1cb5-4e64-a16c-72199f6484b7",
   "metadata": {},
   "outputs": [],
   "source": [
    "array_5_1 = np.append(array_5,new_row_5, axis=0)"
   ]
  },
  {
   "cell_type": "code",
   "execution_count": 106,
   "id": "2b689f2e-3732-46fb-8086-ec75099a66bf",
   "metadata": {},
   "outputs": [
    {
     "data": {
      "text/plain": [
       "(4, 2)"
      ]
     },
     "execution_count": 106,
     "metadata": {},
     "output_type": "execute_result"
    }
   ],
   "source": [
    "array_5_1.shape"
   ]
  },
  {
   "cell_type": "markdown",
   "id": "c12cdfed-4c2a-4614-bf92-ca6624ea73b1",
   "metadata": {},
   "source": [
    "### 6. Copie el array del ejercicio anterior. Traspóngalo (.Agregue ahora dos nuevos pares de coordenadas: (10.8,3.0) y (35.8, 12.0)."
   ]
  },
  {
   "cell_type": "code",
   "execution_count": 119,
   "id": "f66f3316-f202-4323-83b4-6b4b2b0950b2",
   "metadata": {},
   "outputs": [],
   "source": [
    "array_6 = array_5.copy()"
   ]
  },
  {
   "cell_type": "code",
   "execution_count": 120,
   "id": "c2331926-437a-4839-86a9-3bab008ce9fa",
   "metadata": {},
   "outputs": [],
   "source": [
    "array_6_t = array_6.transpose()"
   ]
  },
  {
   "cell_type": "code",
   "execution_count": 121,
   "id": "1d997e6c-9562-4db9-a3dd-3470a9efeeaa",
   "metadata": {},
   "outputs": [],
   "source": [
    "new_row_6 = np.array([[10.8,3.0],[35.8,12.0]])"
   ]
  },
  {
   "cell_type": "code",
   "execution_count": 122,
   "id": "7e7d1fd6-a48a-4d6c-b64c-9dc11d2dfcfc",
   "metadata": {},
   "outputs": [],
   "source": [
    "array_6_t_2 = np.append(array_6_t,new_row_6.transpose(),axis=1)"
   ]
  },
  {
   "cell_type": "code",
   "execution_count": 123,
   "id": "b83b4585-1ecc-40b6-893f-f71d43efd78b",
   "metadata": {},
   "outputs": [
    {
     "data": {
      "text/plain": [
       "array([[ 1.33, 30.  , 70.2 , 10.8 , 35.8 ],\n",
       "       [ 4.5 , 10.7 ,  0.5 ,  3.  , 12.  ]])"
      ]
     },
     "execution_count": 123,
     "metadata": {},
     "output_type": "execute_result"
    }
   ],
   "source": [
    "array_6_t_2"
   ]
  },
  {
   "cell_type": "markdown",
   "id": "f21f15a1-6b8c-434d-b751-3ba2345f1fd2",
   "metadata": {},
   "source": [
    "## Parte 2: Exploración y Minería de Datos"
   ]
  },
  {
   "cell_type": "code",
   "execution_count": 124,
   "id": "47a1c151-4ea9-4851-919e-060f3bf7776c",
   "metadata": {},
   "outputs": [],
   "source": [
    "data = pd.read_csv('./data/NucleosPoblacion.csv')"
   ]
  },
  {
   "cell_type": "code",
   "execution_count": 125,
   "id": "1e779711-c0c4-4305-bb5f-45d6d4867f47",
   "metadata": {},
   "outputs": [
    {
     "data": {
      "text/html": [
       "<div>\n",
       "<style scoped>\n",
       "    .dataframe tbody tr th:only-of-type {\n",
       "        vertical-align: middle;\n",
       "    }\n",
       "\n",
       "    .dataframe tbody tr th {\n",
       "        vertical-align: top;\n",
       "    }\n",
       "\n",
       "    .dataframe thead th {\n",
       "        text-align: right;\n",
       "    }\n",
       "</style>\n",
       "<table border=\"1\" class=\"dataframe\">\n",
       "  <thead>\n",
       "    <tr style=\"text-align: right;\">\n",
       "      <th></th>\n",
       "      <th>FID</th>\n",
       "      <th>OBJECTID</th>\n",
       "      <th>Texto</th>\n",
       "      <th>Poblacion</th>\n",
       "      <th>CodMun</th>\n",
       "      <th>Municipio</th>\n",
       "      <th>CodProvin</th>\n",
       "      <th>Provincia</th>\n",
       "      <th>X</th>\n",
       "      <th>Y</th>\n",
       "    </tr>\n",
       "  </thead>\n",
       "  <tbody>\n",
       "    <tr>\n",
       "      <th>0</th>\n",
       "      <td>0</td>\n",
       "      <td>1</td>\n",
       "      <td>Agüimes</td>\n",
       "      <td>29431.0</td>\n",
       "      <td>35002</td>\n",
       "      <td>Agüimes</td>\n",
       "      <td>35</td>\n",
       "      <td>Las Palmas</td>\n",
       "      <td>-15.446012</td>\n",
       "      <td>27.900542</td>\n",
       "    </tr>\n",
       "    <tr>\n",
       "      <th>1</th>\n",
       "      <td>1</td>\n",
       "      <td>2</td>\n",
       "      <td>Antigua</td>\n",
       "      <td>10458.0</td>\n",
       "      <td>35003</td>\n",
       "      <td>Antigua</td>\n",
       "      <td>35</td>\n",
       "      <td>Las Palmas</td>\n",
       "      <td>-14.013301</td>\n",
       "      <td>28.418966</td>\n",
       "    </tr>\n",
       "    <tr>\n",
       "      <th>2</th>\n",
       "      <td>2</td>\n",
       "      <td>3</td>\n",
       "      <td>Arrecife</td>\n",
       "      <td>58156.0</td>\n",
       "      <td>35004</td>\n",
       "      <td>Arrecife</td>\n",
       "      <td>35</td>\n",
       "      <td>Las Palmas</td>\n",
       "      <td>-13.551451</td>\n",
       "      <td>28.960649</td>\n",
       "    </tr>\n",
       "    <tr>\n",
       "      <th>3</th>\n",
       "      <td>3</td>\n",
       "      <td>4</td>\n",
       "      <td>Arucas</td>\n",
       "      <td>36745.0</td>\n",
       "      <td>35006</td>\n",
       "      <td>Arucas</td>\n",
       "      <td>35</td>\n",
       "      <td>Las Palmas</td>\n",
       "      <td>-15.521512</td>\n",
       "      <td>28.117496</td>\n",
       "    </tr>\n",
       "    <tr>\n",
       "      <th>4</th>\n",
       "      <td>4</td>\n",
       "      <td>5</td>\n",
       "      <td>Gáldar</td>\n",
       "      <td>24473.0</td>\n",
       "      <td>35009</td>\n",
       "      <td>Gáldar</td>\n",
       "      <td>35</td>\n",
       "      <td>Las Palmas</td>\n",
       "      <td>-15.654111</td>\n",
       "      <td>28.143873</td>\n",
       "    </tr>\n",
       "  </tbody>\n",
       "</table>\n",
       "</div>"
      ],
      "text/plain": [
       "   FID  OBJECTID     Texto  Poblacion  CodMun Municipio  CodProvin  \\\n",
       "0    0         1   Agüimes    29431.0   35002   Agüimes         35   \n",
       "1    1         2   Antigua    10458.0   35003   Antigua         35   \n",
       "2    2         3  Arrecife    58156.0   35004  Arrecife         35   \n",
       "3    3         4    Arucas    36745.0   35006    Arucas         35   \n",
       "4    4         5    Gáldar    24473.0   35009    Gáldar         35   \n",
       "\n",
       "    Provincia          X          Y  \n",
       "0  Las Palmas -15.446012  27.900542  \n",
       "1  Las Palmas -14.013301  28.418966  \n",
       "2  Las Palmas -13.551451  28.960649  \n",
       "3  Las Palmas -15.521512  28.117496  \n",
       "4  Las Palmas -15.654111  28.143873  "
      ]
     },
     "execution_count": 125,
     "metadata": {},
     "output_type": "execute_result"
    }
   ],
   "source": [
    "data.head()"
   ]
  },
  {
   "cell_type": "markdown",
   "id": "2f958af2-2865-4cd4-8c7a-b0722fa31915",
   "metadata": {},
   "source": [
    "### 1. ¿Cuántos Municipios tienen más de 100000 habitantes?"
   ]
  },
  {
   "cell_type": "code",
   "execution_count": 128,
   "id": "7671b687-5f48-431a-8327-2187de8a4a8f",
   "metadata": {},
   "outputs": [
    {
     "data": {
      "text/plain": [
       "62"
      ]
     },
     "execution_count": 128,
     "metadata": {},
     "output_type": "execute_result"
    }
   ],
   "source": [
    "data.loc[data['Poblacion'] > 100000]['Municipio'].nunique()"
   ]
  },
  {
   "cell_type": "markdown",
   "id": "0d65e050-1f58-4a8e-b13e-2128c5d5807c",
   "metadata": {},
   "source": [
    "### 2. Realice una gráfica de barras sobre la población de cada ciudad, ordenela de menor a mayo y responda:"
   ]
  },
  {
   "cell_type": "code",
   "execution_count": 186,
   "id": "5f7aeca1-9032-46f9-9b57-0b2fde0ba5f0",
   "metadata": {},
   "outputs": [],
   "source": [
    "df_plot_2 = data[['Poblacion','Provincia']].groupby('Provincia').sum().sort_values('Poblacion', ascending=True).reset_index()"
   ]
  },
  {
   "cell_type": "code",
   "execution_count": 187,
   "id": "5f837721-3449-4cbe-b488-cd66aa4b1765",
   "metadata": {},
   "outputs": [
    {
     "data": {
      "text/html": [
       "<div>\n",
       "<style scoped>\n",
       "    .dataframe tbody tr th:only-of-type {\n",
       "        vertical-align: middle;\n",
       "    }\n",
       "\n",
       "    .dataframe tbody tr th {\n",
       "        vertical-align: top;\n",
       "    }\n",
       "\n",
       "    .dataframe thead th {\n",
       "        text-align: right;\n",
       "    }\n",
       "</style>\n",
       "<table border=\"1\" class=\"dataframe\">\n",
       "  <thead>\n",
       "    <tr style=\"text-align: right;\">\n",
       "      <th></th>\n",
       "      <th>Provincia</th>\n",
       "      <th>Poblacion</th>\n",
       "    </tr>\n",
       "  </thead>\n",
       "  <tbody>\n",
       "    <tr>\n",
       "      <th>0</th>\n",
       "      <td>Soria</td>\n",
       "      <td>39838.0</td>\n",
       "    </tr>\n",
       "    <tr>\n",
       "      <th>1</th>\n",
       "      <td>Teruel</td>\n",
       "      <td>51532.0</td>\n",
       "    </tr>\n",
       "    <tr>\n",
       "      <th>2</th>\n",
       "      <td>Segovia</td>\n",
       "      <td>55748.0</td>\n",
       "    </tr>\n",
       "    <tr>\n",
       "      <th>3</th>\n",
       "      <td>Ávila</td>\n",
       "      <td>58245.0</td>\n",
       "    </tr>\n",
       "    <tr>\n",
       "      <th>4</th>\n",
       "      <td>Cuenca</td>\n",
       "      <td>71921.0</td>\n",
       "    </tr>\n",
       "    <tr>\n",
       "      <th>5</th>\n",
       "      <td>Melilla</td>\n",
       "      <td>76034.0</td>\n",
       "    </tr>\n",
       "    <tr>\n",
       "      <th>6</th>\n",
       "      <td>Ceuta</td>\n",
       "      <td>80579.0</td>\n",
       "    </tr>\n",
       "    <tr>\n",
       "      <th>7</th>\n",
       "      <td>Palencia</td>\n",
       "      <td>82169.0</td>\n",
       "    </tr>\n",
       "    <tr>\n",
       "      <th>8</th>\n",
       "      <td>Zamora</td>\n",
       "      <td>85098.0</td>\n",
       "    </tr>\n",
       "    <tr>\n",
       "      <th>9</th>\n",
       "      <td>Huesca</td>\n",
       "      <td>124838.0</td>\n",
       "    </tr>\n",
       "    <tr>\n",
       "      <th>10</th>\n",
       "      <td>Guadalajara</td>\n",
       "      <td>139373.0</td>\n",
       "    </tr>\n",
       "    <tr>\n",
       "      <th>11</th>\n",
       "      <td>Ourense</td>\n",
       "      <td>161821.0</td>\n",
       "    </tr>\n",
       "    <tr>\n",
       "      <th>12</th>\n",
       "      <td>Lugo</td>\n",
       "      <td>162422.0</td>\n",
       "    </tr>\n",
       "    <tr>\n",
       "      <th>13</th>\n",
       "      <td>Cáceres</td>\n",
       "      <td>176220.0</td>\n",
       "    </tr>\n",
       "    <tr>\n",
       "      <th>14</th>\n",
       "      <td>Salamanca</td>\n",
       "      <td>197780.0</td>\n",
       "    </tr>\n",
       "    <tr>\n",
       "      <th>15</th>\n",
       "      <td>Lleida</td>\n",
       "      <td>199135.0</td>\n",
       "    </tr>\n",
       "    <tr>\n",
       "      <th>16</th>\n",
       "      <td>La Rioja</td>\n",
       "      <td>203911.0</td>\n",
       "    </tr>\n",
       "    <tr>\n",
       "      <th>17</th>\n",
       "      <td>Burgos</td>\n",
       "      <td>250766.0</td>\n",
       "    </tr>\n",
       "    <tr>\n",
       "      <th>18</th>\n",
       "      <td>Álava</td>\n",
       "      <td>266717.0</td>\n",
       "    </tr>\n",
       "    <tr>\n",
       "      <th>19</th>\n",
       "      <td>Albacete</td>\n",
       "      <td>280673.0</td>\n",
       "    </tr>\n",
       "    <tr>\n",
       "      <th>20</th>\n",
       "      <td>León</td>\n",
       "      <td>316662.0</td>\n",
       "    </tr>\n",
       "    <tr>\n",
       "      <th>21</th>\n",
       "      <td>Toledo</td>\n",
       "      <td>332751.0</td>\n",
       "    </tr>\n",
       "    <tr>\n",
       "      <th>22</th>\n",
       "      <td>Ciudad Real</td>\n",
       "      <td>348364.0</td>\n",
       "    </tr>\n",
       "    <tr>\n",
       "      <th>23</th>\n",
       "      <td>Badajoz</td>\n",
       "      <td>361700.0</td>\n",
       "    </tr>\n",
       "    <tr>\n",
       "      <th>24</th>\n",
       "      <td>Huelva</td>\n",
       "      <td>361777.0</td>\n",
       "    </tr>\n",
       "    <tr>\n",
       "      <th>25</th>\n",
       "      <td>Valladolid</td>\n",
       "      <td>372022.0</td>\n",
       "    </tr>\n",
       "    <tr>\n",
       "      <th>26</th>\n",
       "      <td>Jaén</td>\n",
       "      <td>426169.0</td>\n",
       "    </tr>\n",
       "    <tr>\n",
       "      <th>27</th>\n",
       "      <td>Cantabria</td>\n",
       "      <td>437448.0</td>\n",
       "    </tr>\n",
       "    <tr>\n",
       "      <th>28</th>\n",
       "      <td>Navarra</td>\n",
       "      <td>440005.0</td>\n",
       "    </tr>\n",
       "    <tr>\n",
       "      <th>29</th>\n",
       "      <td>Girona</td>\n",
       "      <td>474739.0</td>\n",
       "    </tr>\n",
       "    <tr>\n",
       "      <th>30</th>\n",
       "      <td>Castelló/Castellón</td>\n",
       "      <td>476388.0</td>\n",
       "    </tr>\n",
       "    <tr>\n",
       "      <th>31</th>\n",
       "      <td>Guipúzcoa</td>\n",
       "      <td>546141.0</td>\n",
       "    </tr>\n",
       "    <tr>\n",
       "      <th>32</th>\n",
       "      <td>Almería</td>\n",
       "      <td>550604.0</td>\n",
       "    </tr>\n",
       "    <tr>\n",
       "      <th>33</th>\n",
       "      <td>Córdoba</td>\n",
       "      <td>590503.0</td>\n",
       "    </tr>\n",
       "    <tr>\n",
       "      <th>34</th>\n",
       "      <td>Tarragona</td>\n",
       "      <td>598738.0</td>\n",
       "    </tr>\n",
       "    <tr>\n",
       "      <th>35</th>\n",
       "      <td>Granada</td>\n",
       "      <td>604357.0</td>\n",
       "    </tr>\n",
       "    <tr>\n",
       "      <th>36</th>\n",
       "      <td>Zaragoza</td>\n",
       "      <td>743312.0</td>\n",
       "    </tr>\n",
       "    <tr>\n",
       "      <th>37</th>\n",
       "      <td>Pontevedra</td>\n",
       "      <td>794690.0</td>\n",
       "    </tr>\n",
       "    <tr>\n",
       "      <th>38</th>\n",
       "      <td>A Coruña</td>\n",
       "      <td>818982.0</td>\n",
       "    </tr>\n",
       "    <tr>\n",
       "      <th>39</th>\n",
       "      <td>Asturias</td>\n",
       "      <td>965777.0</td>\n",
       "    </tr>\n",
       "    <tr>\n",
       "      <th>40</th>\n",
       "      <td>Vizcaya</td>\n",
       "      <td>984560.0</td>\n",
       "    </tr>\n",
       "    <tr>\n",
       "      <th>41</th>\n",
       "      <td>Santa Cruz de Tenerife</td>\n",
       "      <td>989964.0</td>\n",
       "    </tr>\n",
       "    <tr>\n",
       "      <th>42</th>\n",
       "      <td>Illes Balears</td>\n",
       "      <td>1041183.0</td>\n",
       "    </tr>\n",
       "    <tr>\n",
       "      <th>43</th>\n",
       "      <td>Cádiz</td>\n",
       "      <td>1166531.0</td>\n",
       "    </tr>\n",
       "    <tr>\n",
       "      <th>44</th>\n",
       "      <td>Las Palmas</td>\n",
       "      <td>1220407.0</td>\n",
       "    </tr>\n",
       "    <tr>\n",
       "      <th>45</th>\n",
       "      <td>Murcia</td>\n",
       "      <td>1599339.0</td>\n",
       "    </tr>\n",
       "    <tr>\n",
       "      <th>46</th>\n",
       "      <td>Sevilla</td>\n",
       "      <td>1671058.0</td>\n",
       "    </tr>\n",
       "    <tr>\n",
       "      <th>47</th>\n",
       "      <td>Málaga</td>\n",
       "      <td>1702839.0</td>\n",
       "    </tr>\n",
       "    <tr>\n",
       "      <th>48</th>\n",
       "      <td>Alacant/Alicante</td>\n",
       "      <td>1804252.0</td>\n",
       "    </tr>\n",
       "    <tr>\n",
       "      <th>49</th>\n",
       "      <td>València/Valencia</td>\n",
       "      <td>2189461.0</td>\n",
       "    </tr>\n",
       "    <tr>\n",
       "      <th>50</th>\n",
       "      <td>Barcelona</td>\n",
       "      <td>4934795.0</td>\n",
       "    </tr>\n",
       "    <tr>\n",
       "      <th>51</th>\n",
       "      <td>Madrid</td>\n",
       "      <td>6315312.0</td>\n",
       "    </tr>\n",
       "  </tbody>\n",
       "</table>\n",
       "</div>"
      ],
      "text/plain": [
       "                 Provincia  Poblacion\n",
       "0                    Soria    39838.0\n",
       "1                   Teruel    51532.0\n",
       "2                  Segovia    55748.0\n",
       "3                    Ávila    58245.0\n",
       "4                   Cuenca    71921.0\n",
       "5                  Melilla    76034.0\n",
       "6                    Ceuta    80579.0\n",
       "7                 Palencia    82169.0\n",
       "8                   Zamora    85098.0\n",
       "9                   Huesca   124838.0\n",
       "10             Guadalajara   139373.0\n",
       "11                 Ourense   161821.0\n",
       "12                    Lugo   162422.0\n",
       "13                 Cáceres   176220.0\n",
       "14               Salamanca   197780.0\n",
       "15                  Lleida   199135.0\n",
       "16                La Rioja   203911.0\n",
       "17                  Burgos   250766.0\n",
       "18                   Álava   266717.0\n",
       "19                Albacete   280673.0\n",
       "20                    León   316662.0\n",
       "21                  Toledo   332751.0\n",
       "22             Ciudad Real   348364.0\n",
       "23                 Badajoz   361700.0\n",
       "24                  Huelva   361777.0\n",
       "25              Valladolid   372022.0\n",
       "26                    Jaén   426169.0\n",
       "27               Cantabria   437448.0\n",
       "28                 Navarra   440005.0\n",
       "29                  Girona   474739.0\n",
       "30      Castelló/Castellón   476388.0\n",
       "31               Guipúzcoa   546141.0\n",
       "32                 Almería   550604.0\n",
       "33                 Córdoba   590503.0\n",
       "34               Tarragona   598738.0\n",
       "35                 Granada   604357.0\n",
       "36                Zaragoza   743312.0\n",
       "37              Pontevedra   794690.0\n",
       "38                A Coruña   818982.0\n",
       "39                Asturias   965777.0\n",
       "40                 Vizcaya   984560.0\n",
       "41  Santa Cruz de Tenerife   989964.0\n",
       "42           Illes Balears  1041183.0\n",
       "43                   Cádiz  1166531.0\n",
       "44              Las Palmas  1220407.0\n",
       "45                  Murcia  1599339.0\n",
       "46                 Sevilla  1671058.0\n",
       "47                  Málaga  1702839.0\n",
       "48        Alacant/Alicante  1804252.0\n",
       "49       València/Valencia  2189461.0\n",
       "50               Barcelona  4934795.0\n",
       "51                  Madrid  6315312.0"
      ]
     },
     "execution_count": 187,
     "metadata": {},
     "output_type": "execute_result"
    }
   ],
   "source": [
    "df_plot_2"
   ]
  },
  {
   "cell_type": "code",
   "execution_count": 191,
   "id": "d1818213-d418-4fe4-81df-f86730576d54",
   "metadata": {},
   "outputs": [
    {
     "data": {
      "image/png": "[encoded data removed]",
      "text/plain": [
       "<Figure size 640x480 with 1 Axes>"
      ]
     },
     "metadata": {},
     "output_type": "display_data"
    }
   ],
   "source": [
    "sns.barplot(data=df_plot_2, x=\"Provincia\", y=\"Poblacion\",estimator=np.sum, errorbar=None)\n",
    "plt.xticks(rotation=90)\n",
    "plt.show()"
   ]
  },
  {
   "cell_type": "markdown",
   "id": "91a65e96-4eba-4ab3-8d85-f44c89591f8b",
   "metadata": {},
   "source": [
    "#### a. ¿Cuál es la segunda ciudad más poblada?"
   ]
  },
  {
   "cell_type": "code",
   "execution_count": 140,
   "id": "3e200bd8-8c48-4585-b108-f426b9c0e998",
   "metadata": {},
   "outputs": [
    {
     "data": {
      "text/html": [
       "<div>\n",
       "<style scoped>\n",
       "    .dataframe tbody tr th:only-of-type {\n",
       "        vertical-align: middle;\n",
       "    }\n",
       "\n",
       "    .dataframe tbody tr th {\n",
       "        vertical-align: top;\n",
       "    }\n",
       "\n",
       "    .dataframe thead th {\n",
       "        text-align: right;\n",
       "    }\n",
       "</style>\n",
       "<table border=\"1\" class=\"dataframe\">\n",
       "  <thead>\n",
       "    <tr style=\"text-align: right;\">\n",
       "      <th></th>\n",
       "      <th>FID</th>\n",
       "      <th>OBJECTID</th>\n",
       "      <th>Texto</th>\n",
       "      <th>Poblacion</th>\n",
       "      <th>CodMun</th>\n",
       "      <th>Municipio</th>\n",
       "      <th>CodProvin</th>\n",
       "      <th>Provincia</th>\n",
       "      <th>X</th>\n",
       "      <th>Y</th>\n",
       "    </tr>\n",
       "  </thead>\n",
       "  <tbody>\n",
       "    <tr>\n",
       "      <th>623</th>\n",
       "      <td>623</td>\n",
       "      <td>624</td>\n",
       "      <td>Barcelona</td>\n",
       "      <td>1619337.0</td>\n",
       "      <td>8019</td>\n",
       "      <td>Barcelona</td>\n",
       "      <td>8</td>\n",
       "      <td>Barcelona</td>\n",
       "      <td>2.176349</td>\n",
       "      <td>41.384247</td>\n",
       "    </tr>\n",
       "  </tbody>\n",
       "</table>\n",
       "</div>"
      ],
      "text/plain": [
       "     FID  OBJECTID      Texto  Poblacion  CodMun  Municipio  CodProvin  \\\n",
       "623  623       624  Barcelona  1619337.0    8019  Barcelona          8   \n",
       "\n",
       "     Provincia         X          Y  \n",
       "623  Barcelona  2.176349  41.384247  "
      ]
     },
     "execution_count": 140,
     "metadata": {},
     "output_type": "execute_result"
    }
   ],
   "source": [
    "data.iloc[data['Poblacion'].nlargest(2).index].tail(1)"
   ]
  },
  {
   "cell_type": "code",
   "execution_count": 347,
   "id": "dc04b6ad-a3c1-4fbd-b23f-2c88efa53f28",
   "metadata": {},
   "outputs": [
    {
     "data": {
      "text/html": [
       "<div>\n",
       "<style scoped>\n",
       "    .dataframe tbody tr th:only-of-type {\n",
       "        vertical-align: middle;\n",
       "    }\n",
       "\n",
       "    .dataframe tbody tr th {\n",
       "        vertical-align: top;\n",
       "    }\n",
       "\n",
       "    .dataframe thead th {\n",
       "        text-align: right;\n",
       "    }\n",
       "</style>\n",
       "<table border=\"1\" class=\"dataframe\">\n",
       "  <thead>\n",
       "    <tr style=\"text-align: right;\">\n",
       "      <th></th>\n",
       "      <th>Provincia</th>\n",
       "      <th>Poblacion</th>\n",
       "    </tr>\n",
       "  </thead>\n",
       "  <tbody>\n",
       "    <tr>\n",
       "      <th>50</th>\n",
       "      <td>Barcelona</td>\n",
       "      <td>4934795.0</td>\n",
       "    </tr>\n",
       "  </tbody>\n",
       "</table>\n",
       "</div>"
      ],
      "text/plain": [
       "    Provincia  Poblacion\n",
       "50  Barcelona  4934795.0"
      ]
     },
     "execution_count": 347,
     "metadata": {},
     "output_type": "execute_result"
    }
   ],
   "source": [
    "df_plot_2.iloc[df_plot_2['Poblacion'].nlargest(2).index].tail(1)"
   ]
  },
  {
   "cell_type": "markdown",
   "id": "500881a8-6e76-4151-b6dd-ada29f105896",
   "metadata": {},
   "source": [
    "####  b. ¿Qué posición ocupa Granada en el ranking de las ciudades más pobladas?"
   ]
  },
  {
   "cell_type": "code",
   "execution_count": 348,
   "id": "299a251e-3af1-4951-a225-98aed5d07485",
   "metadata": {},
   "outputs": [],
   "source": [
    "df_plot_3 = data[['Poblacion','Provincia']].groupby('Provincia').sum().sort_values('Poblacion', ascending=False).reset_index()"
   ]
  },
  {
   "cell_type": "code",
   "execution_count": 351,
   "id": "e5961574-1404-43b9-b08f-1616a4346791",
   "metadata": {},
   "outputs": [
    {
     "data": {
      "text/html": [
       "<div>\n",
       "<style scoped>\n",
       "    .dataframe tbody tr th:only-of-type {\n",
       "        vertical-align: middle;\n",
       "    }\n",
       "\n",
       "    .dataframe tbody tr th {\n",
       "        vertical-align: top;\n",
       "    }\n",
       "\n",
       "    .dataframe thead th {\n",
       "        text-align: right;\n",
       "    }\n",
       "</style>\n",
       "<table border=\"1\" class=\"dataframe\">\n",
       "  <thead>\n",
       "    <tr style=\"text-align: right;\">\n",
       "      <th></th>\n",
       "      <th>Provincia</th>\n",
       "      <th>Poblacion</th>\n",
       "    </tr>\n",
       "  </thead>\n",
       "  <tbody>\n",
       "    <tr>\n",
       "      <th>16</th>\n",
       "      <td>Granada</td>\n",
       "      <td>604357.0</td>\n",
       "    </tr>\n",
       "  </tbody>\n",
       "</table>\n",
       "</div>"
      ],
      "text/plain": [
       "   Provincia  Poblacion\n",
       "16   Granada   604357.0"
      ]
     },
     "execution_count": 351,
     "metadata": {},
     "output_type": "execute_result"
    }
   ],
   "source": [
    "df_plot_3.loc[df_plot_3['Provincia'] == 'Granada']"
   ]
  },
  {
   "cell_type": "markdown",
   "id": "a9b952c2-4230-4acd-8810-e4b141f559fe",
   "metadata": {},
   "source": [
    "### 3. ¿Cuántos municipios de Extremadura tienen más de 5000 habitantes?"
   ]
  },
  {
   "cell_type": "markdown",
   "id": "d1ae2de8-a0af-4b80-a3f8-38e8e4aab19a",
   "metadata": {},
   "source": [
    "Según https://es.wikipedia.org/wiki/Anexo:Municipios_de_Extremadura Extremadura está formada por dos provincias, la provincia de Badajoz y la de Cáceres."
   ]
  },
  {
   "cell_type": "code",
   "execution_count": 210,
   "id": "a37e4d4c-5a55-47d7-9699-b6b37fa4fe3f",
   "metadata": {},
   "outputs": [
    {
     "data": {
      "text/plain": [
       "14"
      ]
     },
     "execution_count": 210,
     "metadata": {},
     "output_type": "execute_result"
    }
   ],
   "source": [
    "data.loc[ (data['Provincia'].isin(['Badajoz','Cáceres']) ) ].loc[ data['Poblacion'] > 5000]['Municipio'].nunique()"
   ]
  },
  {
   "cell_type": "markdown",
   "id": "8a9f45af-ebbd-4ba5-9aa2-7244bbf856fd",
   "metadata": {},
   "source": [
    "### 4. ¿Cuál es el municipio situado más al Norte? (Usar el valor de la coordenada \"Y\" que representa la latitud en grados). Proporcione también la provincia a la que pertenece y su población."
   ]
  },
  {
   "cell_type": "code",
   "execution_count": 214,
   "id": "08d6aa36-71aa-497a-816b-5606db4628d9",
   "metadata": {},
   "outputs": [
    {
     "data": {
      "text/plain": [
       "104    Viveiro\n",
       "Name: Municipio, dtype: object"
      ]
     },
     "execution_count": 214,
     "metadata": {},
     "output_type": "execute_result"
    }
   ],
   "source": [
    "data.iloc[data['Y'].nlargest(1).index]['Municipio']"
   ]
  },
  {
   "cell_type": "markdown",
   "id": "c10fc784-f2be-47b8-8cb1-18cdad3b3995",
   "metadata": {},
   "source": [
    "### 5. Obtenga la media, mediana, desviación estándar, valor máximo y valor mínimo de la población de los municipios de la provincia de Granada."
   ]
  },
  {
   "cell_type": "code",
   "execution_count": 223,
   "id": "c1d27615-1045-40dd-8b8a-54e85a64d9cf",
   "metadata": {},
   "outputs": [
    {
     "data": {
      "text/html": [
       "<div>\n",
       "<style scoped>\n",
       "    .dataframe tbody tr th:only-of-type {\n",
       "        vertical-align: middle;\n",
       "    }\n",
       "\n",
       "    .dataframe tbody tr th {\n",
       "        vertical-align: top;\n",
       "    }\n",
       "\n",
       "    .dataframe thead th {\n",
       "        text-align: right;\n",
       "    }\n",
       "</style>\n",
       "<table border=\"1\" class=\"dataframe\">\n",
       "  <thead>\n",
       "    <tr style=\"text-align: right;\">\n",
       "      <th></th>\n",
       "      <th>count</th>\n",
       "      <th>mean</th>\n",
       "      <th>std</th>\n",
       "      <th>min</th>\n",
       "      <th>25%</th>\n",
       "      <th>50%</th>\n",
       "      <th>75%</th>\n",
       "      <th>max</th>\n",
       "    </tr>\n",
       "    <tr>\n",
       "      <th>Provincia</th>\n",
       "      <th></th>\n",
       "      <th></th>\n",
       "      <th></th>\n",
       "      <th></th>\n",
       "      <th></th>\n",
       "      <th></th>\n",
       "      <th></th>\n",
       "      <th></th>\n",
       "    </tr>\n",
       "  </thead>\n",
       "  <tbody>\n",
       "    <tr>\n",
       "      <th>Granada</th>\n",
       "      <td>20.0</td>\n",
       "      <td>30217.85</td>\n",
       "      <td>50355.491715</td>\n",
       "      <td>10386.0</td>\n",
       "      <td>13146.5</td>\n",
       "      <td>17526.0</td>\n",
       "      <td>21739.75</td>\n",
       "      <td>239154.0</td>\n",
       "    </tr>\n",
       "  </tbody>\n",
       "</table>\n",
       "</div>"
      ],
      "text/plain": [
       "           count      mean           std      min      25%      50%       75%  \\\n",
       "Provincia                                                                       \n",
       "Granada     20.0  30217.85  50355.491715  10386.0  13146.5  17526.0  21739.75   \n",
       "\n",
       "                max  \n",
       "Provincia            \n",
       "Granada    239154.0  "
      ]
     },
     "execution_count": 223,
     "metadata": {},
     "output_type": "execute_result"
    }
   ],
   "source": [
    "data.loc[data['Provincia']=='Granada'].groupby('Provincia')['Poblacion'].describe()"
   ]
  },
  {
   "cell_type": "markdown",
   "id": "8fe3ea6b-67be-4b3c-a610-762b12e42b9b",
   "metadata": {},
   "source": [
    "### 6. Realice un histograma con la población de los Municipios para cada una de las provincias."
   ]
  },
  {
   "cell_type": "code",
   "execution_count": 238,
   "id": "98623967-4a18-419c-9ce8-e19b38783976",
   "metadata": {},
   "outputs": [],
   "source": [
    "df_plot_6 = data[['Poblacion','Provincia']].groupby('Provincia').sum().reset_index()"
   ]
  },
  {
   "cell_type": "code",
   "execution_count": 239,
   "id": "b45627b7-ab1a-491b-875b-0a73506672a7",
   "metadata": {},
   "outputs": [
    {
     "data": {
      "text/html": [
       "<div>\n",
       "<style scoped>\n",
       "    .dataframe tbody tr th:only-of-type {\n",
       "        vertical-align: middle;\n",
       "    }\n",
       "\n",
       "    .dataframe tbody tr th {\n",
       "        vertical-align: top;\n",
       "    }\n",
       "\n",
       "    .dataframe thead th {\n",
       "        text-align: right;\n",
       "    }\n",
       "</style>\n",
       "<table border=\"1\" class=\"dataframe\">\n",
       "  <thead>\n",
       "    <tr style=\"text-align: right;\">\n",
       "      <th></th>\n",
       "      <th>Provincia</th>\n",
       "      <th>Poblacion</th>\n",
       "    </tr>\n",
       "  </thead>\n",
       "  <tbody>\n",
       "    <tr>\n",
       "      <th>0</th>\n",
       "      <td>A Coruña</td>\n",
       "      <td>818982.0</td>\n",
       "    </tr>\n",
       "    <tr>\n",
       "      <th>1</th>\n",
       "      <td>Alacant/Alicante</td>\n",
       "      <td>1804252.0</td>\n",
       "    </tr>\n",
       "    <tr>\n",
       "      <th>2</th>\n",
       "      <td>Albacete</td>\n",
       "      <td>280673.0</td>\n",
       "    </tr>\n",
       "    <tr>\n",
       "      <th>3</th>\n",
       "      <td>Almería</td>\n",
       "      <td>550604.0</td>\n",
       "    </tr>\n",
       "    <tr>\n",
       "      <th>4</th>\n",
       "      <td>Asturias</td>\n",
       "      <td>965777.0</td>\n",
       "    </tr>\n",
       "    <tr>\n",
       "      <th>5</th>\n",
       "      <td>Badajoz</td>\n",
       "      <td>361700.0</td>\n",
       "    </tr>\n",
       "    <tr>\n",
       "      <th>6</th>\n",
       "      <td>Barcelona</td>\n",
       "      <td>4934795.0</td>\n",
       "    </tr>\n",
       "    <tr>\n",
       "      <th>7</th>\n",
       "      <td>Burgos</td>\n",
       "      <td>250766.0</td>\n",
       "    </tr>\n",
       "    <tr>\n",
       "      <th>8</th>\n",
       "      <td>Cantabria</td>\n",
       "      <td>437448.0</td>\n",
       "    </tr>\n",
       "    <tr>\n",
       "      <th>9</th>\n",
       "      <td>Castelló/Castellón</td>\n",
       "      <td>476388.0</td>\n",
       "    </tr>\n",
       "    <tr>\n",
       "      <th>10</th>\n",
       "      <td>Ceuta</td>\n",
       "      <td>80579.0</td>\n",
       "    </tr>\n",
       "    <tr>\n",
       "      <th>11</th>\n",
       "      <td>Ciudad Real</td>\n",
       "      <td>348364.0</td>\n",
       "    </tr>\n",
       "    <tr>\n",
       "      <th>12</th>\n",
       "      <td>Cuenca</td>\n",
       "      <td>71921.0</td>\n",
       "    </tr>\n",
       "    <tr>\n",
       "      <th>13</th>\n",
       "      <td>Cáceres</td>\n",
       "      <td>176220.0</td>\n",
       "    </tr>\n",
       "    <tr>\n",
       "      <th>14</th>\n",
       "      <td>Cádiz</td>\n",
       "      <td>1166531.0</td>\n",
       "    </tr>\n",
       "    <tr>\n",
       "      <th>15</th>\n",
       "      <td>Córdoba</td>\n",
       "      <td>590503.0</td>\n",
       "    </tr>\n",
       "    <tr>\n",
       "      <th>16</th>\n",
       "      <td>Girona</td>\n",
       "      <td>474739.0</td>\n",
       "    </tr>\n",
       "    <tr>\n",
       "      <th>17</th>\n",
       "      <td>Granada</td>\n",
       "      <td>604357.0</td>\n",
       "    </tr>\n",
       "    <tr>\n",
       "      <th>18</th>\n",
       "      <td>Guadalajara</td>\n",
       "      <td>139373.0</td>\n",
       "    </tr>\n",
       "    <tr>\n",
       "      <th>19</th>\n",
       "      <td>Guipúzcoa</td>\n",
       "      <td>546141.0</td>\n",
       "    </tr>\n",
       "    <tr>\n",
       "      <th>20</th>\n",
       "      <td>Huelva</td>\n",
       "      <td>361777.0</td>\n",
       "    </tr>\n",
       "    <tr>\n",
       "      <th>21</th>\n",
       "      <td>Huesca</td>\n",
       "      <td>124838.0</td>\n",
       "    </tr>\n",
       "    <tr>\n",
       "      <th>22</th>\n",
       "      <td>Illes Balears</td>\n",
       "      <td>1041183.0</td>\n",
       "    </tr>\n",
       "    <tr>\n",
       "      <th>23</th>\n",
       "      <td>Jaén</td>\n",
       "      <td>426169.0</td>\n",
       "    </tr>\n",
       "    <tr>\n",
       "      <th>24</th>\n",
       "      <td>La Rioja</td>\n",
       "      <td>203911.0</td>\n",
       "    </tr>\n",
       "    <tr>\n",
       "      <th>25</th>\n",
       "      <td>Las Palmas</td>\n",
       "      <td>1220407.0</td>\n",
       "    </tr>\n",
       "    <tr>\n",
       "      <th>26</th>\n",
       "      <td>León</td>\n",
       "      <td>316662.0</td>\n",
       "    </tr>\n",
       "    <tr>\n",
       "      <th>27</th>\n",
       "      <td>Lleida</td>\n",
       "      <td>199135.0</td>\n",
       "    </tr>\n",
       "    <tr>\n",
       "      <th>28</th>\n",
       "      <td>Lugo</td>\n",
       "      <td>162422.0</td>\n",
       "    </tr>\n",
       "    <tr>\n",
       "      <th>29</th>\n",
       "      <td>Madrid</td>\n",
       "      <td>6315312.0</td>\n",
       "    </tr>\n",
       "    <tr>\n",
       "      <th>30</th>\n",
       "      <td>Melilla</td>\n",
       "      <td>76034.0</td>\n",
       "    </tr>\n",
       "    <tr>\n",
       "      <th>31</th>\n",
       "      <td>Murcia</td>\n",
       "      <td>1599339.0</td>\n",
       "    </tr>\n",
       "    <tr>\n",
       "      <th>32</th>\n",
       "      <td>Málaga</td>\n",
       "      <td>1702839.0</td>\n",
       "    </tr>\n",
       "    <tr>\n",
       "      <th>33</th>\n",
       "      <td>Navarra</td>\n",
       "      <td>440005.0</td>\n",
       "    </tr>\n",
       "    <tr>\n",
       "      <th>34</th>\n",
       "      <td>Ourense</td>\n",
       "      <td>161821.0</td>\n",
       "    </tr>\n",
       "    <tr>\n",
       "      <th>35</th>\n",
       "      <td>Palencia</td>\n",
       "      <td>82169.0</td>\n",
       "    </tr>\n",
       "    <tr>\n",
       "      <th>36</th>\n",
       "      <td>Pontevedra</td>\n",
       "      <td>794690.0</td>\n",
       "    </tr>\n",
       "    <tr>\n",
       "      <th>37</th>\n",
       "      <td>Salamanca</td>\n",
       "      <td>197780.0</td>\n",
       "    </tr>\n",
       "    <tr>\n",
       "      <th>38</th>\n",
       "      <td>Santa Cruz de Tenerife</td>\n",
       "      <td>989964.0</td>\n",
       "    </tr>\n",
       "    <tr>\n",
       "      <th>39</th>\n",
       "      <td>Segovia</td>\n",
       "      <td>55748.0</td>\n",
       "    </tr>\n",
       "    <tr>\n",
       "      <th>40</th>\n",
       "      <td>Sevilla</td>\n",
       "      <td>1671058.0</td>\n",
       "    </tr>\n",
       "    <tr>\n",
       "      <th>41</th>\n",
       "      <td>Soria</td>\n",
       "      <td>39838.0</td>\n",
       "    </tr>\n",
       "    <tr>\n",
       "      <th>42</th>\n",
       "      <td>Tarragona</td>\n",
       "      <td>598738.0</td>\n",
       "    </tr>\n",
       "    <tr>\n",
       "      <th>43</th>\n",
       "      <td>Teruel</td>\n",
       "      <td>51532.0</td>\n",
       "    </tr>\n",
       "    <tr>\n",
       "      <th>44</th>\n",
       "      <td>Toledo</td>\n",
       "      <td>332751.0</td>\n",
       "    </tr>\n",
       "    <tr>\n",
       "      <th>45</th>\n",
       "      <td>Valladolid</td>\n",
       "      <td>372022.0</td>\n",
       "    </tr>\n",
       "    <tr>\n",
       "      <th>46</th>\n",
       "      <td>València/Valencia</td>\n",
       "      <td>2189461.0</td>\n",
       "    </tr>\n",
       "    <tr>\n",
       "      <th>47</th>\n",
       "      <td>Vizcaya</td>\n",
       "      <td>984560.0</td>\n",
       "    </tr>\n",
       "    <tr>\n",
       "      <th>48</th>\n",
       "      <td>Zamora</td>\n",
       "      <td>85098.0</td>\n",
       "    </tr>\n",
       "    <tr>\n",
       "      <th>49</th>\n",
       "      <td>Zaragoza</td>\n",
       "      <td>743312.0</td>\n",
       "    </tr>\n",
       "    <tr>\n",
       "      <th>50</th>\n",
       "      <td>Álava</td>\n",
       "      <td>266717.0</td>\n",
       "    </tr>\n",
       "    <tr>\n",
       "      <th>51</th>\n",
       "      <td>Ávila</td>\n",
       "      <td>58245.0</td>\n",
       "    </tr>\n",
       "  </tbody>\n",
       "</table>\n",
       "</div>"
      ],
      "text/plain": [
       "                 Provincia  Poblacion\n",
       "0                 A Coruña   818982.0\n",
       "1         Alacant/Alicante  1804252.0\n",
       "2                 Albacete   280673.0\n",
       "3                  Almería   550604.0\n",
       "4                 Asturias   965777.0\n",
       "5                  Badajoz   361700.0\n",
       "6                Barcelona  4934795.0\n",
       "7                   Burgos   250766.0\n",
       "8                Cantabria   437448.0\n",
       "9       Castelló/Castellón   476388.0\n",
       "10                   Ceuta    80579.0\n",
       "11             Ciudad Real   348364.0\n",
       "12                  Cuenca    71921.0\n",
       "13                 Cáceres   176220.0\n",
       "14                   Cádiz  1166531.0\n",
       "15                 Córdoba   590503.0\n",
       "16                  Girona   474739.0\n",
       "17                 Granada   604357.0\n",
       "18             Guadalajara   139373.0\n",
       "19               Guipúzcoa   546141.0\n",
       "20                  Huelva   361777.0\n",
       "21                  Huesca   124838.0\n",
       "22           Illes Balears  1041183.0\n",
       "23                    Jaén   426169.0\n",
       "24                La Rioja   203911.0\n",
       "25              Las Palmas  1220407.0\n",
       "26                    León   316662.0\n",
       "27                  Lleida   199135.0\n",
       "28                    Lugo   162422.0\n",
       "29                  Madrid  6315312.0\n",
       "30                 Melilla    76034.0\n",
       "31                  Murcia  1599339.0\n",
       "32                  Málaga  1702839.0\n",
       "33                 Navarra   440005.0\n",
       "34                 Ourense   161821.0\n",
       "35                Palencia    82169.0\n",
       "36              Pontevedra   794690.0\n",
       "37               Salamanca   197780.0\n",
       "38  Santa Cruz de Tenerife   989964.0\n",
       "39                 Segovia    55748.0\n",
       "40                 Sevilla  1671058.0\n",
       "41                   Soria    39838.0\n",
       "42               Tarragona   598738.0\n",
       "43                  Teruel    51532.0\n",
       "44                  Toledo   332751.0\n",
       "45              Valladolid   372022.0\n",
       "46       València/Valencia  2189461.0\n",
       "47                 Vizcaya   984560.0\n",
       "48                  Zamora    85098.0\n",
       "49                Zaragoza   743312.0\n",
       "50                   Álava   266717.0\n",
       "51                   Ávila    58245.0"
      ]
     },
     "execution_count": 239,
     "metadata": {},
     "output_type": "execute_result"
    }
   ],
   "source": [
    "df_plot_6"
   ]
  },
  {
   "cell_type": "code",
   "execution_count": 243,
   "id": "f8f38769-9024-49cf-a84f-ec4b722c0806",
   "metadata": {},
   "outputs": [
    {
     "data": {
      "text/plain": [
       "<Axes: xlabel='Poblacion', ylabel='Count'>"
      ]
     },
     "execution_count": 243,
     "metadata": {},
     "output_type": "execute_result"
    },
    {
     "data": {
      "image/png": "[encoded data removed]",
      "text/plain": [
       "<Figure size 640x480 with 1 Axes>"
      ]
     },
     "metadata": {},
     "output_type": "display_data"
    }
   ],
   "source": [
    "sns.histplot(data=df_plot_6, x='Poblacion')"
   ]
  },
  {
   "cell_type": "markdown",
   "id": "c4e8de45-50ab-4881-866c-bc175ff91b9f",
   "metadata": {},
   "source": [
    "### 7. Seleccione al azar cincuenta municipios diferentes de entre los diponibles en el archivo. Asegúrese de que no se repitan. ¿Luego calcule el promedio de la población y la desviación estándar de esto 50 municipios?."
   ]
  },
  {
   "cell_type": "code",
   "execution_count": 253,
   "id": "8cbde48d-edfe-412a-a6df-e92eab7c6ea5",
   "metadata": {},
   "outputs": [],
   "source": [
    "municipios = random.choices((data['Municipio'].unique()),k=50)"
   ]
  },
  {
   "cell_type": "code",
   "execution_count": 255,
   "id": "72184736-cbd3-4c51-ae28-1d4a47da1f96",
   "metadata": {},
   "outputs": [
    {
     "data": {
      "text/plain": [
       "['Jerez de la Frontera',\n",
       " 'Totana',\n",
       " 'Santanyí',\n",
       " 'Argentona',\n",
       " 'Córdoba',\n",
       " 'El Astillero',\n",
       " 'Xirivella',\n",
       " 'Puerto Real',\n",
       " 'Boadilla del Monte',\n",
       " 'El Astillero',\n",
       " 'Miranda de Ebro',\n",
       " 'Calp',\n",
       " 'Icod de los Vinos',\n",
       " 'Mutxamel',\n",
       " 'San Vicente del Raspeig/Sant Vicent del Raspeig',\n",
       " 'Martorell',\n",
       " 'Mislata',\n",
       " 'El Campello',\n",
       " 'Alhaurín de la Torre',\n",
       " 'Fuensalida',\n",
       " 'La Solana',\n",
       " 'Arrecife',\n",
       " 'Oleiros',\n",
       " 'Puerto Real',\n",
       " 'Los Alcázares',\n",
       " 'San Miguel de Abona',\n",
       " 'Tomiño',\n",
       " 'Écija',\n",
       " 'Alcalá del Río',\n",
       " 'Astorga',\n",
       " 'Ávila',\n",
       " 'Ciempozuelos',\n",
       " 'Torrevieja',\n",
       " 'Albolote',\n",
       " 'Pego',\n",
       " 'Marín',\n",
       " 'Elda',\n",
       " \"L'Eliana\",\n",
       " 'Santa Fe',\n",
       " 'Sax',\n",
       " 'Ciempozuelos',\n",
       " 'Las Rozas de Madrid',\n",
       " 'Tomares',\n",
       " 'Cangas',\n",
       " 'Huesca',\n",
       " 'Valdemoro',\n",
       " 'O Carballiño',\n",
       " 'Níjar',\n",
       " 'Carballo',\n",
       " 'La Puebla del Río']"
      ]
     },
     "execution_count": 255,
     "metadata": {},
     "output_type": "execute_result"
    }
   ],
   "source": [
    "municipios"
   ]
  },
  {
   "cell_type": "code",
   "execution_count": 260,
   "id": "f3a238e1-ec44-4693-9a9f-751d7340a453",
   "metadata": {},
   "outputs": [
    {
     "data": {
      "text/plain": [
       "39699.17647058824"
      ]
     },
     "execution_count": 260,
     "metadata": {},
     "output_type": "execute_result"
    }
   ],
   "source": [
    "data.loc[ (data['Municipio'].isin(municipios))]['Poblacion'].mean()"
   ]
  },
  {
   "cell_type": "code",
   "execution_count": 261,
   "id": "cff88e75-8dc2-4b91-b671-ddded10680e8",
   "metadata": {},
   "outputs": [
    {
     "data": {
      "text/plain": [
       "52113.24179158532"
      ]
     },
     "execution_count": 261,
     "metadata": {},
     "output_type": "execute_result"
    }
   ],
   "source": [
    "data.loc[ (data['Municipio'].isin(municipios))]['Poblacion'].std()"
   ]
  },
  {
   "cell_type": "markdown",
   "id": "1560c253-703e-4b33-9bba-1e53de6395c6",
   "metadata": {},
   "source": [
    "### 8. Dígame los nombres de los Municipios más cercano y más lejano a Madrid. Para ello debe calcular la distancia en todos ellos y Madrid. No considere a Madrid en el análisis ya que la distancia sería cero."
   ]
  },
  {
   "cell_type": "code",
   "execution_count": 299,
   "id": "33cddded-f04b-47ff-a97d-67a166e466d8",
   "metadata": {},
   "outputs": [],
   "source": [
    "x_madrid, y_madrid = data.loc[ data['Municipio'] == 'Madrid']['X'], data.loc[ data['Municipio'] == 'Madrid']['Y']"
   ]
  },
  {
   "cell_type": "code",
   "execution_count": 300,
   "id": "7a717fda-5e45-4e04-bd73-787345e2c271",
   "metadata": {},
   "outputs": [
    {
     "data": {
      "text/plain": [
       "355   -3.703797\n",
       "Name: X, dtype: float64"
      ]
     },
     "execution_count": 300,
     "metadata": {},
     "output_type": "execute_result"
    }
   ],
   "source": [
    "x_madrid"
   ]
  },
  {
   "cell_type": "code",
   "execution_count": 301,
   "id": "315d6f81-81cc-4060-b87c-a45f33fb9a14",
   "metadata": {},
   "outputs": [
    {
     "data": {
      "text/plain": [
       "355    40.41663\n",
       "Name: Y, dtype: float64"
      ]
     },
     "execution_count": 301,
     "metadata": {},
     "output_type": "execute_result"
    }
   ],
   "source": [
    "y_madrid"
   ]
  },
  {
   "cell_type": "code",
   "execution_count": 340,
   "id": "0d801524-8924-4854-99e3-2b2585b479de",
   "metadata": {},
   "outputs": [],
   "source": [
    "data_madrid = data.loc[ data['Municipio'] != 'Madrid'].reset_index(drop=True)"
   ]
  },
  {
   "cell_type": "code",
   "execution_count": 341,
   "id": "fec49482-83e6-4939-83ad-d5576cec6c8a",
   "metadata": {},
   "outputs": [],
   "source": [
    "data_madrid['dif_madrid_x'] = data_madrid['X'] - float(x_madrid)\n",
    "data_madrid['dif_madrid_y'] = data_madrid['Y'] - float(y_madrid)"
   ]
  },
  {
   "cell_type": "code",
   "execution_count": 342,
   "id": "81b77cdf-b79c-480e-8e35-c1c82198f1a0",
   "metadata": {},
   "outputs": [],
   "source": [
    "data_madrid['dist'] = np.sqrt(data_madrid['dif_madrid_x']**2 + data_madrid['dif_madrid_y']**2 )"
   ]
  },
  {
   "cell_type": "code",
   "execution_count": 343,
   "id": "3fe0860c-75fd-4547-8c4f-2e9d2c3ba5c7",
   "metadata": {},
   "outputs": [
    {
     "data": {
      "text/html": [
       "<div>\n",
       "<style scoped>\n",
       "    .dataframe tbody tr th:only-of-type {\n",
       "        vertical-align: middle;\n",
       "    }\n",
       "\n",
       "    .dataframe tbody tr th {\n",
       "        vertical-align: top;\n",
       "    }\n",
       "\n",
       "    .dataframe thead th {\n",
       "        text-align: right;\n",
       "    }\n",
       "</style>\n",
       "<table border=\"1\" class=\"dataframe\">\n",
       "  <thead>\n",
       "    <tr style=\"text-align: right;\">\n",
       "      <th></th>\n",
       "      <th>FID</th>\n",
       "      <th>OBJECTID</th>\n",
       "      <th>Texto</th>\n",
       "      <th>Poblacion</th>\n",
       "      <th>CodMun</th>\n",
       "      <th>Municipio</th>\n",
       "      <th>CodProvin</th>\n",
       "      <th>Provincia</th>\n",
       "      <th>X</th>\n",
       "      <th>Y</th>\n",
       "      <th>dif_madrid_x</th>\n",
       "      <th>dif_madrid_y</th>\n",
       "      <th>dist</th>\n",
       "    </tr>\n",
       "  </thead>\n",
       "  <tbody>\n",
       "    <tr>\n",
       "      <th>0</th>\n",
       "      <td>0</td>\n",
       "      <td>1</td>\n",
       "      <td>Agüimes</td>\n",
       "      <td>29431.0</td>\n",
       "      <td>35002</td>\n",
       "      <td>Agüimes</td>\n",
       "      <td>35</td>\n",
       "      <td>Las Palmas</td>\n",
       "      <td>-15.446012</td>\n",
       "      <td>27.900542</td>\n",
       "      <td>-11.742215</td>\n",
       "      <td>-12.516088</td>\n",
       "      <td>17.161937</td>\n",
       "    </tr>\n",
       "    <tr>\n",
       "      <th>1</th>\n",
       "      <td>1</td>\n",
       "      <td>2</td>\n",
       "      <td>Antigua</td>\n",
       "      <td>10458.0</td>\n",
       "      <td>35003</td>\n",
       "      <td>Antigua</td>\n",
       "      <td>35</td>\n",
       "      <td>Las Palmas</td>\n",
       "      <td>-14.013301</td>\n",
       "      <td>28.418966</td>\n",
       "      <td>-10.309504</td>\n",
       "      <td>-11.997664</td>\n",
       "      <td>15.818654</td>\n",
       "    </tr>\n",
       "    <tr>\n",
       "      <th>2</th>\n",
       "      <td>2</td>\n",
       "      <td>3</td>\n",
       "      <td>Arrecife</td>\n",
       "      <td>58156.0</td>\n",
       "      <td>35004</td>\n",
       "      <td>Arrecife</td>\n",
       "      <td>35</td>\n",
       "      <td>Las Palmas</td>\n",
       "      <td>-13.551451</td>\n",
       "      <td>28.960649</td>\n",
       "      <td>-9.847654</td>\n",
       "      <td>-11.455981</td>\n",
       "      <td>15.106812</td>\n",
       "    </tr>\n",
       "    <tr>\n",
       "      <th>3</th>\n",
       "      <td>3</td>\n",
       "      <td>4</td>\n",
       "      <td>Arucas</td>\n",
       "      <td>36745.0</td>\n",
       "      <td>35006</td>\n",
       "      <td>Arucas</td>\n",
       "      <td>35</td>\n",
       "      <td>Las Palmas</td>\n",
       "      <td>-15.521512</td>\n",
       "      <td>28.117496</td>\n",
       "      <td>-11.817714</td>\n",
       "      <td>-12.299134</td>\n",
       "      <td>17.056584</td>\n",
       "    </tr>\n",
       "    <tr>\n",
       "      <th>4</th>\n",
       "      <td>4</td>\n",
       "      <td>5</td>\n",
       "      <td>Gáldar</td>\n",
       "      <td>24473.0</td>\n",
       "      <td>35009</td>\n",
       "      <td>Gáldar</td>\n",
       "      <td>35</td>\n",
       "      <td>Las Palmas</td>\n",
       "      <td>-15.654111</td>\n",
       "      <td>28.143873</td>\n",
       "      <td>-11.950314</td>\n",
       "      <td>-12.272757</td>\n",
       "      <td>17.129815</td>\n",
       "    </tr>\n",
       "  </tbody>\n",
       "</table>\n",
       "</div>"
      ],
      "text/plain": [
       "   FID  OBJECTID     Texto  Poblacion  CodMun Municipio  CodProvin  \\\n",
       "0    0         1   Agüimes    29431.0   35002   Agüimes         35   \n",
       "1    1         2   Antigua    10458.0   35003   Antigua         35   \n",
       "2    2         3  Arrecife    58156.0   35004  Arrecife         35   \n",
       "3    3         4    Arucas    36745.0   35006    Arucas         35   \n",
       "4    4         5    Gáldar    24473.0   35009    Gáldar         35   \n",
       "\n",
       "    Provincia          X          Y  dif_madrid_x  dif_madrid_y       dist  \n",
       "0  Las Palmas -15.446012  27.900542    -11.742215    -12.516088  17.161937  \n",
       "1  Las Palmas -14.013301  28.418966    -10.309504    -11.997664  15.818654  \n",
       "2  Las Palmas -13.551451  28.960649     -9.847654    -11.455981  15.106812  \n",
       "3  Las Palmas -15.521512  28.117496    -11.817714    -12.299134  17.056584  \n",
       "4  Las Palmas -15.654111  28.143873    -11.950314    -12.272757  17.129815  "
      ]
     },
     "execution_count": 343,
     "metadata": {},
     "output_type": "execute_result"
    }
   ],
   "source": [
    "data_madrid.head()"
   ]
  },
  {
   "cell_type": "code",
   "execution_count": 344,
   "id": "9b8b49fa-090c-4159-9154-24a5550c6951",
   "metadata": {},
   "outputs": [
    {
     "name": "stdout",
     "output_type": "stream",
     "text": [
      "Municipio más cercano\n"
     ]
    },
    {
     "data": {
      "text/html": [
       "<div>\n",
       "<style scoped>\n",
       "    .dataframe tbody tr th:only-of-type {\n",
       "        vertical-align: middle;\n",
       "    }\n",
       "\n",
       "    .dataframe tbody tr th {\n",
       "        vertical-align: top;\n",
       "    }\n",
       "\n",
       "    .dataframe thead th {\n",
       "        text-align: right;\n",
       "    }\n",
       "</style>\n",
       "<table border=\"1\" class=\"dataframe\">\n",
       "  <thead>\n",
       "    <tr style=\"text-align: right;\">\n",
       "      <th></th>\n",
       "      <th>FID</th>\n",
       "      <th>OBJECTID</th>\n",
       "      <th>Texto</th>\n",
       "      <th>Poblacion</th>\n",
       "      <th>CodMun</th>\n",
       "      <th>Municipio</th>\n",
       "      <th>CodProvin</th>\n",
       "      <th>Provincia</th>\n",
       "      <th>X</th>\n",
       "      <th>Y</th>\n",
       "      <th>dif_madrid_x</th>\n",
       "      <th>dif_madrid_y</th>\n",
       "      <th>dist</th>\n",
       "    </tr>\n",
       "  </thead>\n",
       "  <tbody>\n",
       "    <tr>\n",
       "      <th>782</th>\n",
       "      <td>783</td>\n",
       "      <td>784</td>\n",
       "      <td>Humera-Somosaguas-prado del Rey</td>\n",
       "      <td>14800.0</td>\n",
       "      <td>28115</td>\n",
       "      <td>Pozuelo de Alarcón</td>\n",
       "      <td>28</td>\n",
       "      <td>Madrid</td>\n",
       "      <td>-3.783853</td>\n",
       "      <td>40.428764</td>\n",
       "      <td>-0.080055</td>\n",
       "      <td>0.012134</td>\n",
       "      <td>0.08097</td>\n",
       "    </tr>\n",
       "  </tbody>\n",
       "</table>\n",
       "</div>"
      ],
      "text/plain": [
       "     FID  OBJECTID                            Texto  Poblacion  CodMun  \\\n",
       "782  783       784  Humera-Somosaguas-prado del Rey    14800.0   28115   \n",
       "\n",
       "              Municipio  CodProvin Provincia         X          Y  \\\n",
       "782  Pozuelo de Alarcón         28    Madrid -3.783853  40.428764   \n",
       "\n",
       "     dif_madrid_x  dif_madrid_y     dist  \n",
       "782     -0.080055      0.012134  0.08097  "
      ]
     },
     "execution_count": 344,
     "metadata": {},
     "output_type": "execute_result"
    }
   ],
   "source": [
    "print(\"Municipio más cercano\")\n",
    "data_madrid.iloc[data_madrid['dist'].nsmallest(1).index]"
   ]
  },
  {
   "cell_type": "code",
   "execution_count": 345,
   "id": "de14b3d5-80e6-4319-aa9f-ed5407f04f5c",
   "metadata": {},
   "outputs": [
    {
     "name": "stdout",
     "output_type": "stream",
     "text": [
      "Municipio más lejano\n"
     ]
    },
    {
     "data": {
      "text/html": [
       "<div>\n",
       "<style scoped>\n",
       "    .dataframe tbody tr th:only-of-type {\n",
       "        vertical-align: middle;\n",
       "    }\n",
       "\n",
       "    .dataframe tbody tr th {\n",
       "        vertical-align: top;\n",
       "    }\n",
       "\n",
       "    .dataframe thead th {\n",
       "        text-align: right;\n",
       "    }\n",
       "</style>\n",
       "<table border=\"1\" class=\"dataframe\">\n",
       "  <thead>\n",
       "    <tr style=\"text-align: right;\">\n",
       "      <th></th>\n",
       "      <th>FID</th>\n",
       "      <th>OBJECTID</th>\n",
       "      <th>Texto</th>\n",
       "      <th>Poblacion</th>\n",
       "      <th>CodMun</th>\n",
       "      <th>Municipio</th>\n",
       "      <th>CodProvin</th>\n",
       "      <th>Provincia</th>\n",
       "      <th>X</th>\n",
       "      <th>Y</th>\n",
       "      <th>dif_madrid_x</th>\n",
       "      <th>dif_madrid_y</th>\n",
       "      <th>dist</th>\n",
       "    </tr>\n",
       "  </thead>\n",
       "  <tbody>\n",
       "    <tr>\n",
       "      <th>29</th>\n",
       "      <td>29</td>\n",
       "      <td>30</td>\n",
       "      <td>Los Llanos de Aridane</td>\n",
       "      <td>20948.0</td>\n",
       "      <td>38024</td>\n",
       "      <td>Los Llanos de Aridane</td>\n",
       "      <td>38</td>\n",
       "      <td>Santa Cruz de Tenerife</td>\n",
       "      <td>-17.914361</td>\n",
       "      <td>28.658639</td>\n",
       "      <td>-14.210564</td>\n",
       "      <td>-11.757991</td>\n",
       "      <td>18.444254</td>\n",
       "    </tr>\n",
       "  </tbody>\n",
       "</table>\n",
       "</div>"
      ],
      "text/plain": [
       "    FID  OBJECTID                  Texto  Poblacion  CodMun  \\\n",
       "29   29        30  Los Llanos de Aridane    20948.0   38024   \n",
       "\n",
       "                Municipio  CodProvin               Provincia          X  \\\n",
       "29  Los Llanos de Aridane         38  Santa Cruz de Tenerife -17.914361   \n",
       "\n",
       "            Y  dif_madrid_x  dif_madrid_y       dist  \n",
       "29  28.658639    -14.210564    -11.757991  18.444254  "
      ]
     },
     "execution_count": 345,
     "metadata": {},
     "output_type": "execute_result"
    }
   ],
   "source": [
    "print(\"Municipio más lejano\")\n",
    "data_madrid.iloc[data_madrid['dist'].nlargest(1).index]"
   ]
  }
 ],
 "metadata": {
  "kernelspec": {
   "display_name": "default:Python",
   "language": "python",
   "name": "conda-env-default-py"
  },
  "language_info": {
   "codemirror_mode": {
    "name": "ipython",
    "version": 3
   },
   "file_extension": ".py",
   "mimetype": "text/x-python",
   "name": "python",
   "nbconvert_exporter": "python",
   "pygments_lexer": "ipython3",
   "version": "3.9.13"
  }
 },
 "nbformat": 4,
 "nbformat_minor": 5
}
