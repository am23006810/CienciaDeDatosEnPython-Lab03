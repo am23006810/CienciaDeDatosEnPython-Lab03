{
 "cells": [
  {
   "cell_type": "markdown",
   "id": "bdebc643-c6f0-41de-91d7-339fbceac7cc",
   "metadata": {},
   "source": [
    "# Laboratorio #3"
   ]
  },
  {
   "cell_type": "code",
   "execution_count": 1,
   "id": "987db6b2-949f-4b4d-97e2-6d20791e8216",
   "metadata": {},
   "outputs": [],
   "source": [
    "import numpy as np\n",
    "import pandas as pd"
   ]
  },
  {
   "cell_type": "markdown",
   "id": "780ce05e-415d-4301-a380-3e76dc264fe6",
   "metadata": {},
   "source": [
    "## Parte 1"
   ]
  },
  {
   "cell_type": "markdown",
   "id": "dd5c0cec-2554-435f-acc3-482e521d1688",
   "metadata": {},
   "source": [
    "### 1. ¿Cuál es el tamaño en bytes de un array de 1000 elementos de tipo booleano?"
   ]
  },
  {
   "cell_type": "code",
   "execution_count": 7,
   "id": "3a798c5e-b81b-458f-b2e5-af2caa1af534",
   "metadata": {},
   "outputs": [],
   "source": [
    "array_1 = np.full((1000, 1), True)"
   ]
  },
  {
   "cell_type": "code",
   "execution_count": 8,
   "id": "5b8e0182-a91e-4416-a632-7f60f7964855",
   "metadata": {},
   "outputs": [
    {
     "name": "stdout",
     "output_type": "stream",
     "text": [
      "bool\n"
     ]
    }
   ],
   "source": [
    "print(array_1.dtype)"
   ]
  },
  {
   "cell_type": "code",
   "execution_count": 10,
   "id": "cb90af56-19c3-490b-91f3-2771e7cf90ce",
   "metadata": {},
   "outputs": [
    {
     "name": "stdout",
     "output_type": "stream",
     "text": [
      "Array bytes:  1000\n"
     ]
    }
   ],
   "source": [
    "print(\"Array bytes: \", array_1.size*array_1.itemsize)"
   ]
  },
  {
   "cell_type": "markdown",
   "id": "a2ea2c56-c30c-41af-85dc-cae7375a182f",
   "metadata": {},
   "source": [
    "### 2. Cree un array cuyos elementos sean los enteros pares en [1,100] y en orden decreciente. Muestre los 10 últimos por pantalla.\n"
   ]
  },
  {
   "cell_type": "code",
   "execution_count": 17,
   "id": "f64987e9-1532-46a6-baf6-face84241074",
   "metadata": {},
   "outputs": [
    {
     "name": "stdout",
     "output_type": "stream",
     "text": [
      "[20 18 16 14 12 10  8  6  4  2]\n"
     ]
    }
   ],
   "source": [
    "array_2 = np.arange(100,1,-1)\n",
    "array_2 = array_2[array_2%2==0]\n",
    "print(array_2[-10:])"
   ]
  },
  {
   "cell_type": "markdown",
   "id": "804021cc-470f-4cc9-abae-c3f3ec53d95b",
   "metadata": {},
   "source": [
    "### 3. Dado el array<br>\n",
    "[2 4 5 6<br>\n",
    "0 3 7 4<br>\n",
    "8 8 5 2<br>\n",
    "1 5 6 1]<br>\n",
    "\n",
    "<br>\n",
    "Seleccione con una instrucción el subarray de elementos [0 3 7 4]\n",
    "<br>\n",
    "Después, seleccione el subarray de elementos<br>\n",
    "[\n",
    "2 5<br>\n",
    "8 5]"
   ]
  },
  {
   "cell_type": "code",
   "execution_count": 34,
   "id": "144555f6-fe71-432c-93a8-f6652c46be46",
   "metadata": {},
   "outputs": [],
   "source": [
    "array_3 = np.array([[2,4,5,6],[0,3,7,4],[8,8,5,2],[1,5,6,1]])\n",
    "array_3_1 = np.array([0,3,7,4])\n",
    "array_3_2 = np.array([[2,5],[8,5]])"
   ]
  },
  {
   "cell_type": "code",
   "execution_count": 35,
   "id": "d7c07746-f11b-4b2a-bde7-06338fee8d27",
   "metadata": {},
   "outputs": [
    {
     "data": {
      "text/plain": [
       "array([0, 3, 7, 4])"
      ]
     },
     "execution_count": 35,
     "metadata": {},
     "output_type": "execute_result"
    }
   ],
   "source": [
    "array_3[1]"
   ]
  },
  {
   "cell_type": "code",
   "execution_count": 69,
   "id": "35274d93-dbe9-4e50-b74c-4c3965cabc62",
   "metadata": {},
   "outputs": [
    {
     "data": {
      "text/plain": [
       "array([[2, 5],\n",
       "       [8, 5]])"
      ]
     },
     "execution_count": 69,
     "metadata": {},
     "output_type": "execute_result"
    }
   ],
   "source": [
    "array_3[[0,2], :][:, [0,2]] "
   ]
  },
  {
   "cell_type": "markdown",
   "id": "cd4e0b3a-7272-40e9-a912-7bb2d7937947",
   "metadata": {},
   "source": [
    "### 4. Dados los arrays a = [1, 4, 2, 7] y b = [1, 3, 2, 9], obtenga la media aritmética de la diferencia (a-b)."
   ]
  },
  {
   "cell_type": "code",
   "execution_count": 72,
   "id": "274e956c-e3ee-424b-8c72-25b97fae64b5",
   "metadata": {},
   "outputs": [],
   "source": [
    "a = np.array([1,4,2,7])\n",
    "b = np.array([1,3,2,9])"
   ]
  },
  {
   "cell_type": "code",
   "execution_count": 73,
   "id": "21277d1d-76a3-4524-8715-ab254eb2e001",
   "metadata": {},
   "outputs": [
    {
     "data": {
      "text/plain": [
       "-0.25"
      ]
     },
     "execution_count": 73,
     "metadata": {},
     "output_type": "execute_result"
    }
   ],
   "source": [
    "np.mean(a-b)"
   ]
  },
  {
   "cell_type": "markdown",
   "id": "de6594ba-325e-4142-b0dd-a7588c47c96e",
   "metadata": {},
   "source": [
    "### 5."
   ]
  },
  {
   "cell_type": "code",
   "execution_count": null,
   "id": "8fc64aa6-0a9b-4b5d-9e2b-c38e694a0494",
   "metadata": {},
   "outputs": [],
   "source": []
  }
 ],
 "metadata": {
  "kernelspec": {
   "display_name": "default:Python",
   "language": "python",
   "name": "conda-env-default-py"
  },
  "language_info": {
   "codemirror_mode": {
    "name": "ipython",
    "version": 3
   },
   "file_extension": ".py",
   "mimetype": "text/x-python",
   "name": "python",
   "nbconvert_exporter": "python",
   "pygments_lexer": "ipython3",
   "version": "3.9.13"
  }
 },
 "nbformat": 4,
 "nbformat_minor": 5
}
