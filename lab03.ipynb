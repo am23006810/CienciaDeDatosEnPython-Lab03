{
 "cells": [
  {
   "cell_type": "markdown",
   "id": "bdebc643-c6f0-41de-91d7-339fbceac7cc",
   "metadata": {},
   "source": [
    "# Laboratorio #3"
   ]
  },
  {
   "cell_type": "code",
   "execution_count": null,
   "id": "08dfe678-7fae-4f60-970b-4c8e32274a6d",
   "metadata": {},
   "outputs": [],
   "source": []
  }
 ],
 "metadata": {
  "kernelspec": {
   "display_name": "default:Python",
   "language": "python",
   "name": "conda-env-default-py"
  },
  "language_info": {
   "codemirror_mode": {
    "name": "ipython",
    "version": 3
   },
   "file_extension": ".py",
   "mimetype": "text/x-python",
   "name": "python",
   "nbconvert_exporter": "python",
   "pygments_lexer": "ipython3",
   "version": "3.9.13"
  }
 },
 "nbformat": 4,
 "nbformat_minor": 5
}
